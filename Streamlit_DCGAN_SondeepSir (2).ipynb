{
  "cells": [
    {
      "cell_type": "code",
      "execution_count": null,
      "metadata": {
        "id": "UkfdZG5mcPl8"
      },
      "outputs": [],
      "source": [
        "!mkdir -p ~/.kaggle\n",
        "!cp kaggle.json ~/.kaggle/"
      ]
    },
    {
      "cell_type": "code",
      "execution_count": null,
      "metadata": {
        "colab": {
          "base_uri": "https://localhost:8080/"
        },
        "id": "8awvQR4jZRV1",
        "outputId": "87a1a47f-b210-4deb-a782-a1a6efdf5610"
      },
      "outputs": [
        {
          "output_type": "stream",
          "name": "stdout",
          "text": [
            "Warning: Your Kaggle API key is readable by other users on this system! To fix this, you can run 'chmod 600 /root/.kaggle/kaggle.json'\n",
            "Downloading anime-faces.zip to /content\n",
            " 99% 438M/441M [00:04<00:00, 107MB/s] \n",
            "100% 441M/441M [00:04<00:00, 94.3MB/s]\n"
          ]
        }
      ],
      "source": [
        "!kaggle datasets download -d soumikrakshit/anime-faces"
      ]
    },
    {
      "cell_type": "code",
      "execution_count": null,
      "metadata": {
        "id": "fRirxXBpZRYX"
      },
      "outputs": [],
      "source": [
        "import zipfile\n",
        "zip_ref = zipfile.ZipFile('/content/anime-faces.zip', 'r')\n",
        "zip_ref.extractall('/content')\n",
        "zip_ref.close()"
      ]
    },
    {
      "cell_type": "code",
      "execution_count": null,
      "metadata": {
        "id": "yGdBr1OSbE56"
      },
      "outputs": [],
      "source": [
        "import os\n",
        "import numpy as np\n",
        "import matplotlib.pyplot as plt\n",
        "import warnings\n",
        "from tqdm.notebook import tqdm  #  tqdm is a Python library for adding progress bar\n",
        "\n",
        "import tensorflow as tf\n",
        "from tensorflow import keras\n",
        "from tensorflow.keras.preprocessing.image import load_img, array_to_img\n",
        "from tensorflow.keras.models import Sequential, Model\n",
        "from tensorflow.keras import layers\n",
        "from tensorflow.keras.optimizers import Adam\n",
        "from tensorflow.keras.losses import BinaryCrossentropy\n",
        "\n",
        "warnings.filterwarnings('ignore')"
      ]
    },
    {
      "cell_type": "code",
      "execution_count": null,
      "metadata": {
        "id": "sFFozUblbE8o"
      },
      "outputs": [],
      "source": [
        "BASE_DIR = '/content/data/data'"
      ]
    },
    {
      "cell_type": "code",
      "execution_count": null,
      "metadata": {
        "id": "R_AiQznEbE_T"
      },
      "outputs": [],
      "source": [
        "# load complete image paths to the list\n",
        "image_paths = []\n",
        "for image_name in os.listdir(BASE_DIR):\n",
        "    image_path = os.path.join(BASE_DIR, image_name)\n",
        "    image_paths.append(image_path)"
      ]
    },
    {
      "cell_type": "code",
      "execution_count": null,
      "metadata": {
        "id": "DfKONmaCbFCY",
        "colab": {
          "base_uri": "https://localhost:8080/"
        },
        "outputId": "4414c0d2-024b-47d9-b4db-b8a2503e4b1a"
      },
      "outputs": [
        {
          "output_type": "execute_result",
          "data": {
            "text/plain": [
              "21551"
            ]
          },
          "metadata": {},
          "execution_count": 7
        }
      ],
      "source": [
        "len(image_paths)"
      ]
    },
    {
      "cell_type": "code",
      "execution_count": null,
      "metadata": {
        "id": "jnHhF5JxbZ2R"
      },
      "outputs": [],
      "source": [
        "# Next we will visualize few images in the dataset\n",
        "\n",
        "# to display grid of images (7x7)\n",
        "plt.figure(figsize=(20, 20))\n",
        "temp_images = image_paths[:49]\n",
        "index = 1\n",
        "\n",
        "for image_path in temp_images:\n",
        "    plt.subplot(7, 7, index)\n",
        "    # load the image\n",
        "    img = load_img(image_path)\n",
        "    # convert to numpy array\n",
        "    img = np.array(img)\n",
        "    # show the image\n",
        "    plt.imshow(img)\n",
        "    plt.axis('off')\n",
        "    # increment the index for next image\n",
        "    index += 1"
      ]
    },
    {
      "cell_type": "code",
      "execution_count": null,
      "metadata": {
        "id": "dJmtg_F2bZ5O",
        "colab": {
          "base_uri": "https://localhost:8080/",
          "height": 49,
          "referenced_widgets": [
            "8ad993913b60472481da791ae6fcc2c4",
            "151eeb15c1b64c38a2bb1eb246bfe7a0",
            "3231e24386a845e9b432a171b3e3d437",
            "1b22a213410949b3803a02baa30b8862",
            "a561b532b5f54563917b4acad712aa21",
            "aaf6a722788941d594af04957f1352cc",
            "f8896bce16a44402942da5fd8963db05",
            "9bcca1d91c46494f8e34deb4339ce7a1",
            "ecf49e8737c748b58b5337b46ef9d4a6",
            "28cafc1f2d144f6aab7380d5d31d2866",
            "5d1ac5d187894c8d8ec6e40bd1862499"
          ]
        },
        "outputId": "5406be49-ca4f-44a6-d056-99201f8db907"
      },
      "outputs": [
        {
          "output_type": "display_data",
          "data": {
            "text/plain": [
              "  0%|          | 0/21551 [00:00<?, ?it/s]"
            ],
            "application/vnd.jupyter.widget-view+json": {
              "version_major": 2,
              "version_minor": 0,
              "model_id": "8ad993913b60472481da791ae6fcc2c4"
            }
          },
          "metadata": {}
        }
      ],
      "source": [
        "# Next we will preprocess the dataset\n",
        "\n",
        "# load the image and convert to numpy array\n",
        "train_images = [np.array(load_img(path)) for path in tqdm(image_paths)]\n",
        "train_images = np.array(train_images)"
      ]
    },
    {
      "cell_type": "code",
      "source": [
        "train_images[0].shape"
      ],
      "metadata": {
        "colab": {
          "base_uri": "https://localhost:8080/"
        },
        "id": "0LuIqm5qgIaD",
        "outputId": "594cb23b-4e39-42d9-8508-ab50e9305004"
      },
      "execution_count": null,
      "outputs": [
        {
          "output_type": "execute_result",
          "data": {
            "text/plain": [
              "(64, 64, 3)"
            ]
          },
          "metadata": {},
          "execution_count": 10
        }
      ]
    },
    {
      "cell_type": "code",
      "source": [
        "# Next we will reshape the numpy array\n",
        "\n",
        "# reshape the array\n",
        "train_images = train_images.reshape(train_images.shape[0], 64, 64, 3).astype('float32')"
      ],
      "metadata": {
        "id": "8RRF_alOgLDs"
      },
      "execution_count": null,
      "outputs": []
    },
    {
      "cell_type": "code",
      "source": [
        "# normalize the images\n",
        "train_images = (train_images - 127.5) / 127.5"
      ],
      "metadata": {
        "id": "jvHOBGrngNr2"
      },
      "execution_count": null,
      "outputs": []
    },
    {
      "cell_type": "code",
      "source": [
        "train_images[0]"
      ],
      "metadata": {
        "colab": {
          "base_uri": "https://localhost:8080/"
        },
        "id": "47zXKOBxgP9a",
        "outputId": "73f8e33d-4ec0-4803-e08b-9da0a3036bb6"
      },
      "execution_count": null,
      "outputs": [
        {
          "output_type": "execute_result",
          "data": {
            "text/plain": [
              "array([[[-0.8039216 , -0.8117647 , -0.654902  ],\n",
              "        [-0.7882353 , -0.8117647 , -0.64705884],\n",
              "        [-0.73333335, -0.7490196 , -0.5764706 ],\n",
              "        ...,\n",
              "        [-0.11372549,  0.01176471,  0.27058825],\n",
              "        [-0.01176471,  0.12941177,  0.4117647 ],\n",
              "        [ 0.15294118,  0.33333334,  0.6784314 ]],\n",
              "\n",
              "       [[-0.7647059 , -0.77254903, -0.60784316],\n",
              "        [-0.7882353 , -0.8039216 , -0.6392157 ],\n",
              "        [-0.7254902 , -0.7411765 , -0.5764706 ],\n",
              "        ...,\n",
              "        [-0.07450981,  0.06666667,  0.34117648],\n",
              "        [ 0.08235294,  0.24705882,  0.58431375],\n",
              "        [ 0.20784314,  0.41960785,  0.79607844]],\n",
              "\n",
              "       [[-0.78039217, -0.79607844, -0.6313726 ],\n",
              "        [-0.8039216 , -0.81960785, -0.654902  ],\n",
              "        [-0.75686276, -0.77254903, -0.60784316],\n",
              "        ...,\n",
              "        [ 0.04313726,  0.21568628,  0.52156866],\n",
              "        [ 0.1764706 ,  0.3647059 ,  0.7254902 ],\n",
              "        [ 0.35686275,  0.5686275 ,  0.88235295]],\n",
              "\n",
              "       ...,\n",
              "\n",
              "       [[ 0.99215686,  0.8980392 ,  0.67058825],\n",
              "        [ 0.9843137 ,  0.90588236,  0.6784314 ],\n",
              "        [ 0.99215686,  0.8117647 ,  0.56078434],\n",
              "        ...,\n",
              "        [ 1.        ,  1.        ,  1.        ],\n",
              "        [ 1.        ,  1.        ,  1.        ],\n",
              "        [ 1.        ,  1.        ,  1.        ]],\n",
              "\n",
              "       [[ 0.99215686,  0.9137255 ,  0.67058825],\n",
              "        [ 1.        ,  0.88235295,  0.6156863 ],\n",
              "        [ 1.        ,  0.8666667 ,  0.6627451 ],\n",
              "        ...,\n",
              "        [ 0.99215686,  1.        ,  1.        ],\n",
              "        [ 0.99215686,  1.        ,  1.        ],\n",
              "        [ 1.        ,  1.        ,  1.        ]],\n",
              "\n",
              "       [[ 0.99215686,  0.92156863,  0.6784314 ],\n",
              "        [ 0.99215686,  0.8980392 ,  0.654902  ],\n",
              "        [ 0.99215686,  0.8666667 ,  0.6313726 ],\n",
              "        ...,\n",
              "        [ 0.99215686,  1.        ,  1.        ],\n",
              "        [ 0.9843137 ,  1.        ,  0.99215686],\n",
              "        [ 1.        ,  1.        ,  1.        ]]], dtype=float32)"
            ]
          },
          "metadata": {},
          "execution_count": 13
        }
      ]
    },
    {
      "cell_type": "code",
      "source": [
        "#First we will initialize the required values to the variables\n",
        "\n",
        "# Latent Space is an abstract, lower-dimensional representation of high-dimensional data,\n",
        "# often used in machine learning and data science to simplify complex data structures\n",
        "# and reveal hidden patterns.\n",
        "\n",
        "# latent dimension for random noise\n",
        "\n",
        "\n",
        "LATENT_DIM = 100\n",
        "# weight initializer\n",
        "WEIGHT_INIT = keras.initializers.RandomNormal(mean=0.0, stddev=0.02)\n",
        "# no. of channels of the image\n",
        "CHANNELS = 3 # for gray scale, keep it as 1"
      ],
      "metadata": {
        "id": "gUkHBcEdgSJ8"
      },
      "execution_count": null,
      "outputs": []
    },
    {
      "cell_type": "code",
      "source": [
        "# Generator Model will create new images similar to training data from random noise\n",
        "\n",
        "model = Sequential(name='generator')\n",
        "\n",
        "# 1d random noise\n",
        "model.add(layers.Dense(8 * 8 * 512, input_dim=LATENT_DIM))\n",
        "model.add(layers.ReLU())\n",
        "\n",
        "# convert 1d to 3d\n",
        "model.add(layers.Reshape((8, 8, 512)))\n",
        "\n",
        "# upsample to 16x16\n",
        "model.add(layers.Conv2DTranspose(256, (4, 4), strides=(2, 2), padding='same', kernel_initializer=WEIGHT_INIT))\n",
        "model.add(layers.ReLU())\n",
        "\n",
        "# upsample to 32x32\n",
        "model.add(layers.Conv2DTranspose(128, (4, 4), strides=(2, 2), padding='same', kernel_initializer=WEIGHT_INIT))\n",
        "model.add(layers.ReLU())\n",
        "\n",
        "# upsample to 64x64\n",
        "model.add(layers.Conv2DTranspose(64, (4, 4), strides=(2, 2), padding='same', kernel_initializer=WEIGHT_INIT))\n",
        "model.add(layers.ReLU())\n",
        "\n",
        "model.add(layers.Conv2D(CHANNELS, (4, 4), padding='same', activation='tanh'))\n",
        "\n",
        "generator = model\n",
        "generator.summary()"
      ],
      "metadata": {
        "colab": {
          "base_uri": "https://localhost:8080/"
        },
        "id": "rsn55xgmgUfP",
        "outputId": "3ff1ccbf-3e95-4ded-fadb-6da3caa5505c"
      },
      "execution_count": null,
      "outputs": [
        {
          "output_type": "stream",
          "name": "stdout",
          "text": [
            "Model: \"generator\"\n",
            "_________________________________________________________________\n",
            " Layer (type)                Output Shape              Param #   \n",
            "=================================================================\n",
            " dense (Dense)               (None, 32768)             3309568   \n",
            "                                                                 \n",
            " re_lu (ReLU)                (None, 32768)             0         \n",
            "                                                                 \n",
            " reshape (Reshape)           (None, 8, 8, 512)         0         \n",
            "                                                                 \n",
            " conv2d_transpose (Conv2DTr  (None, 16, 16, 256)       2097408   \n",
            " anspose)                                                        \n",
            "                                                                 \n",
            " re_lu_1 (ReLU)              (None, 16, 16, 256)       0         \n",
            "                                                                 \n",
            " conv2d_transpose_1 (Conv2D  (None, 32, 32, 128)       524416    \n",
            " Transpose)                                                      \n",
            "                                                                 \n",
            " re_lu_2 (ReLU)              (None, 32, 32, 128)       0         \n",
            "                                                                 \n",
            " conv2d_transpose_2 (Conv2D  (None, 64, 64, 64)        131136    \n",
            " Transpose)                                                      \n",
            "                                                                 \n",
            " re_lu_3 (ReLU)              (None, 64, 64, 64)        0         \n",
            "                                                                 \n",
            " conv2d (Conv2D)             (None, 64, 64, 3)         3075      \n",
            "                                                                 \n",
            "=================================================================\n",
            "Total params: 6065603 (23.14 MB)\n",
            "Trainable params: 6065603 (23.14 MB)\n",
            "Non-trainable params: 0 (0.00 Byte)\n",
            "_________________________________________________________________\n"
          ]
        }
      ]
    },
    {
      "cell_type": "code",
      "source": [
        "# Discriminator model will classify the image from the generator to check whether it real (or) fake images\n",
        "\n",
        "model = Sequential(name='discriminator')\n",
        "input_shape = (64, 64, 3)\n",
        "alpha = 0.2\n",
        "\n",
        "# create conv layers\n",
        "model.add(layers.Conv2D(64, (4, 4), strides=(2, 2), padding='same', input_shape=input_shape))\n",
        "model.add(layers.BatchNormalization())\n",
        "model.add(layers.LeakyReLU(alpha=alpha))\n",
        "\n",
        "model.add(layers.Conv2D(128, (4, 4), strides=(2, 2), padding='same', input_shape=input_shape))\n",
        "model.add(layers.BatchNormalization())\n",
        "model.add(layers.LeakyReLU(alpha=alpha))\n",
        "\n",
        "model.add(layers.Conv2D(128, (4, 4), strides=(2, 2), padding='same', input_shape=input_shape))\n",
        "model.add(layers.BatchNormalization())\n",
        "model.add(layers.LeakyReLU(alpha=alpha))\n",
        "\n",
        "model.add(layers.Flatten())\n",
        "model.add(layers.Dropout(0.3))\n",
        "\n",
        "# output class\n",
        "model.add(layers.Dense(1, activation='sigmoid'))\n",
        "\n",
        "discriminator = model\n",
        "discriminator.summary()"
      ],
      "metadata": {
        "colab": {
          "base_uri": "https://localhost:8080/"
        },
        "id": "FqHYaXcjgWjM",
        "outputId": "7e02bc44-090c-4ebf-bd8e-f6f043d75fc3"
      },
      "execution_count": null,
      "outputs": [
        {
          "output_type": "stream",
          "name": "stdout",
          "text": [
            "Model: \"discriminator\"\n",
            "_________________________________________________________________\n",
            " Layer (type)                Output Shape              Param #   \n",
            "=================================================================\n",
            " conv2d_1 (Conv2D)           (None, 32, 32, 64)        3136      \n",
            "                                                                 \n",
            " batch_normalization (Batch  (None, 32, 32, 64)        256       \n",
            " Normalization)                                                  \n",
            "                                                                 \n",
            " leaky_re_lu (LeakyReLU)     (None, 32, 32, 64)        0         \n",
            "                                                                 \n",
            " conv2d_2 (Conv2D)           (None, 16, 16, 128)       131200    \n",
            "                                                                 \n",
            " batch_normalization_1 (Bat  (None, 16, 16, 128)       512       \n",
            " chNormalization)                                                \n",
            "                                                                 \n",
            " leaky_re_lu_1 (LeakyReLU)   (None, 16, 16, 128)       0         \n",
            "                                                                 \n",
            " conv2d_3 (Conv2D)           (None, 8, 8, 128)         262272    \n",
            "                                                                 \n",
            " batch_normalization_2 (Bat  (None, 8, 8, 128)         512       \n",
            " chNormalization)                                                \n",
            "                                                                 \n",
            " leaky_re_lu_2 (LeakyReLU)   (None, 8, 8, 128)         0         \n",
            "                                                                 \n",
            " flatten (Flatten)           (None, 8192)              0         \n",
            "                                                                 \n",
            " dropout (Dropout)           (None, 8192)              0         \n",
            "                                                                 \n",
            " dense_1 (Dense)             (None, 1)                 8193      \n",
            "                                                                 \n",
            "=================================================================\n",
            "Total params: 406081 (1.55 MB)\n",
            "Trainable params: 405441 (1.55 MB)\n",
            "Non-trainable params: 640 (2.50 KB)\n",
            "_________________________________________________________________\n"
          ]
        }
      ]
    },
    {
      "cell_type": "code",
      "source": [
        "# Create DCGAN\n",
        "\n",
        "class DCGAN(keras.Model):\n",
        "    def __init__(self, generator, discriminator, latent_dim):\n",
        "        super().__init__()\n",
        "        self.generator = generator\n",
        "        self.discriminator = discriminator\n",
        "        self.latent_dim = latent_dim\n",
        "        self.g_loss_metric = keras.metrics.Mean(name='g_loss')\n",
        "        self.d_loss_metric = keras.metrics.Mean(name='d_loss')\n",
        "\n",
        "    @property\n",
        "    def metrics(self):\n",
        "        return [self.g_loss_metric, self.d_loss_metric]\n",
        "\n",
        "    def compile(self, g_optimizer, d_optimizer, loss_fn):\n",
        "        super(DCGAN, self).compile()\n",
        "        self.g_optimizer = g_optimizer\n",
        "        self.d_optimizer = d_optimizer\n",
        "        self.loss_fn = loss_fn\n",
        "\n",
        "    def train_step(self, real_images):\n",
        "        # get batch size from the data\n",
        "        batch_size = tf.shape(real_images)[0]\n",
        "        # generate random noise\n",
        "        random_noise = tf.random.normal(shape=(batch_size, self.latent_dim))\n",
        "\n",
        "        # train the discriminator with real (1) and fake (0) images\n",
        "        with tf.GradientTape() as tape:\n",
        "            # compute loss on real images\n",
        "            pred_real = self.discriminator(real_images, training=True)\n",
        "            # generate real image labels\n",
        "            real_labels = tf.ones((batch_size, 1))\n",
        "            # label smoothing\n",
        "            real_labels += 0.05 * tf.random.uniform(tf.shape(real_labels))\n",
        "            d_loss_real = self.loss_fn(real_labels, pred_real)\n",
        "\n",
        "            # compute loss on fake images\n",
        "            fake_images = self.generator(random_noise)\n",
        "            pred_fake = self.discriminator(fake_images, training=True)\n",
        "            # generate fake labels\n",
        "            fake_labels = tf.zeros((batch_size, 1))\n",
        "            d_loss_fake = self.loss_fn(fake_labels, pred_fake)\n",
        "\n",
        "            # total discriminator loss\n",
        "            d_loss = (d_loss_real + d_loss_fake) / 2\n",
        "\n",
        "        # compute discriminator gradients\n",
        "        gradients = tape.gradient(d_loss, self.discriminator.trainable_variables)\n",
        "        # update the gradients\n",
        "        self.d_optimizer.apply_gradients(zip(gradients, self.discriminator.trainable_variables))\n",
        "\n",
        "\n",
        "        # train the generator model\n",
        "        labels = tf.ones((batch_size, 1))\n",
        "        # generator want discriminator to think that fake images are real\n",
        "        with tf.GradientTape() as tape:\n",
        "            # generate fake images from generator\n",
        "            fake_images = self.generator(random_noise, training=True)\n",
        "            # classify images as real or fake\n",
        "            pred_fake = self.discriminator(fake_images, training=True)\n",
        "            # compute loss\n",
        "            g_loss = self.loss_fn(labels, pred_fake)\n",
        "\n",
        "        # compute gradients\n",
        "        gradients = tape.gradient(g_loss, self.generator.trainable_variables)\n",
        "        # update the gradients\n",
        "        self.g_optimizer.apply_gradients(zip(gradients, self.generator.trainable_variables))\n",
        "\n",
        "        # update states for both models\n",
        "        self.d_loss_metric.update_state(d_loss)\n",
        "        self.g_loss_metric.update_state(g_loss)\n",
        "\n",
        "        return {'d_loss': self.d_loss_metric.result(), 'g_loss': self.g_loss_metric.result()}"
      ],
      "metadata": {
        "id": "ATo4xDC3gaK-"
      },
      "execution_count": null,
      "outputs": []
    },
    {
      "cell_type": "code",
      "source": [
        "# Next we will plot some images for each epoch\n",
        "\n",
        "class DCGANMonitor(keras.callbacks.Callback):\n",
        "    def __init__(self, num_imgs=25, latent_dim=100):\n",
        "        self.num_imgs = num_imgs\n",
        "        self.latent_dim = latent_dim\n",
        "        # create random noise for generating images\n",
        "        self.noise = tf.random.normal([25, latent_dim])\n",
        "\n",
        "    def on_epoch_end(self, epoch, logs=None):\n",
        "        # generate the image from noise\n",
        "        g_img = self.model.generator(self.noise)\n",
        "        # denormalize the image\n",
        "        g_img = (g_img * 127.5) + 127.5\n",
        "        g_img.numpy()\n",
        "\n",
        "        fig = plt.figure(figsize=(8, 8))\n",
        "        for i in range(self.num_imgs):\n",
        "            plt.subplot(5, 5, i+1)\n",
        "            img = array_to_img(g_img[i])\n",
        "            plt.imshow(img)\n",
        "            plt.axis('off')\n",
        "        # plt.savefig('epoch_{:03d}.png'.format(epoch))\n",
        "        plt.show()\n",
        "\n",
        "    def on_train_end(self, logs=None):\n",
        "        self.model.generator.save('generator.h5')"
      ],
      "metadata": {
        "id": "fp4XEiS3gcgh"
      },
      "execution_count": null,
      "outputs": []
    },
    {
      "cell_type": "code",
      "source": [
        "# Now let us initialize the DCGAN model\n",
        "\n",
        "dcgan = DCGAN(generator=generator, discriminator=discriminator, latent_dim=LATENT_DIM)"
      ],
      "metadata": {
        "id": "iey6dF5SgfEm"
      },
      "execution_count": null,
      "outputs": []
    },
    {
      "cell_type": "code",
      "source": [
        "# Next let us compile the DCGAN model\n",
        "\n",
        "D_LR = 0.0001\n",
        "G_LR = 0.0003\n",
        "dcgan.compile(g_optimizer=Adam(learning_rate=G_LR, beta_1=0.5), d_optimizer=Adam(learning_rate=D_LR, beta_1=0.5), loss_fn=BinaryCrossentropy())"
      ],
      "metadata": {
        "id": "GiCY8ktmghmJ"
      },
      "execution_count": null,
      "outputs": []
    },
    {
      "cell_type": "code",
      "source": [
        "# Next we will train the model\n",
        "\n",
        "N_EPOCHS = 30\n",
        "dcgan.fit(train_images, epochs=N_EPOCHS, callbacks=[DCGANMonitor()])"
      ],
      "metadata": {
        "id": "UP6ogND2gmv5"
      },
      "execution_count": null,
      "outputs": []
    },
    {
      "cell_type": "code",
      "source": [
        "noise = tf.random.normal([1, 100])\n",
        "fig = plt.figure(figsize=(3, 3))\n",
        "# generate the image from noise\n",
        "g_img = dcgan.generator(noise)\n",
        "# denormalize the image\n",
        "g_img = (g_img * 127.5) + 127.5\n",
        "g_img.numpy()\n",
        "img = array_to_img(g_img[0])\n",
        "plt.imshow(img)\n",
        "plt.axis('off')\n",
        "plt.show()"
      ],
      "metadata": {
        "id": "gLpapIfHoLoY",
        "colab": {
          "base_uri": "https://localhost:8080/",
          "height": 268
        },
        "outputId": "b4eb793d-dc10-49c4-a66a-49244f76557c"
      },
      "execution_count": null,
      "outputs": [
        {
          "output_type": "display_data",
          "data": {
            "text/plain": [
              "<Figure size 300x300 with 1 Axes>"
            ],
            "image/png": "[encoded data removed]"
          },
          "metadata": {}
        }
      ]
    },
    {
      "cell_type": "code",
      "source": [],
      "metadata": {
        "id": "vwhBfJYBWIqT"
      },
      "execution_count": null,
      "outputs": []
    },
    {
      "cell_type": "code",
      "source": [
        "from keras.models import load_model\n",
        "# Save generator and discriminator models\n",
        "dcgan.generator.save('generator_model.h5')\n",
        "dcgan.discriminator.save('discriminator_model.h5')\n",
        "\n",
        "# Load generator and discriminator models\n",
        "loaded_generator = load_model('generator_model.h5')\n",
        "loaded_discriminator = load_model('discriminator_model.h5')\n"
      ],
      "metadata": {
        "id": "gpDelMiA4-wq",
        "colab": {
          "base_uri": "https://localhost:8080/"
        },
        "outputId": "425d2b83-bd4d-435b-d9bf-8c533efba0ac"
      },
      "execution_count": null,
      "outputs": [
        {
          "output_type": "stream",
          "name": "stderr",
          "text": [
            "WARNING:tensorflow:Compiled the loaded model, but the compiled metrics have yet to be built. `model.compile_metrics` will be empty until you train or evaluate the model.\n",
            "WARNING:tensorflow:Compiled the loaded model, but the compiled metrics have yet to be built. `model.compile_metrics` will be empty until you train or evaluate the model.\n",
            "WARNING:tensorflow:No training configuration found in the save file, so the model was *not* compiled. Compile it manually.\n",
            "WARNING:tensorflow:No training configuration found in the save file, so the model was *not* compiled. Compile it manually.\n"
          ]
        }
      ]
    },
    {
      "cell_type": "code",
      "source": [
        "# Testing the model\n",
        "import tensorflow as tf\n",
        "from tensorflow.keras.models import load_model\n",
        "import matplotlib.pyplot as plt\n",
        "from tensorflow.keras.preprocessing.image import array_to_img\n",
        "\n",
        "# Load the generator model\n",
        "loaded_generator = load_model('generator.h5')\n",
        "\n",
        "# Generate random noise\n",
        "noise = tf.random.normal([1, 100])\n",
        "\n",
        "# Generate an image from the noise using the loaded generator\n",
        "generated_image = loaded_generator(noise)\n",
        "\n",
        "# Denormalize the image\n",
        "generated_image = (generated_image * 127.5) + 127.5\n",
        "\n",
        "# Convert the image tensor to a NumPy array\n",
        "generated_image = generated_image.numpy()\n",
        "\n",
        "# Convert the array to an image and display it\n",
        "img = array_to_img(generated_image[0])\n",
        "plt.imshow(img)\n",
        "plt.axis('off')\n",
        "plt.show()\n"
      ],
      "metadata": {
        "colab": {
          "base_uri": "https://localhost:8080/",
          "height": 424
        },
        "id": "8iSXpLc8Vgq5",
        "outputId": "ee00f5c8-2dd5-4b58-d9ab-b25eafd8d979"
      },
      "execution_count": null,
      "outputs": [
        {
          "output_type": "stream",
          "name": "stderr",
          "text": [
            "WARNING:tensorflow:No training configuration found in the save file, so the model was *not* compiled. Compile it manually.\n"
          ]
        },
        {
          "output_type": "display_data",
          "data": {
            "text/plain": [
              "<Figure size 640x480 with 1 Axes>"
            ],
            "image/png": "[encoded data removed]"
          },
          "metadata": {}
        }
      ]
    },
    {
      "cell_type": "code",
      "source": [
        "# for pickling the model\n",
        "from tensorflow.keras.models import load_model, save_model\n",
        "import pickle\n",
        "\n",
        "# Assuming dcgan is your DCGAN model with a generator\n",
        "generator_model = dcgan.generator\n",
        "\n",
        "# Save the generator model\n",
        "save_model(generator_model, 'generator_model.h5')\n",
        "\n",
        "# Load the generator model\n",
        "loaded_generator = load_model('generator_model.h5')\n",
        "\n",
        "\n",
        "\n",
        "\n",
        "# Serialize the generator model\n",
        "with open('generator_model.pkl', 'wb') as f:\n",
        "    pickle.dump(generator_model, f)\n",
        "\n",
        "# Deserialize the generator model\n",
        "with open('generator_model.pkl', 'rb') as f:\n",
        "    loaded_generator = pickle.load(f)\n"
      ],
      "metadata": {
        "id": "C9m026NrVvJR"
      },
      "execution_count": null,
      "outputs": []
    },
    {
      "cell_type": "code",
      "source": [
        "! pip install streamlit -q"
      ],
      "metadata": {
        "colab": {
          "base_uri": "https://localhost:8080/"
        },
        "id": "rmWIXaMUWjEZ",
        "outputId": "4f2bf08a-e884-4f0a-a127-8890f2fd54f7"
      },
      "execution_count": null,
      "outputs": [
        {
          "output_type": "stream",
          "name": "stdout",
          "text": [
            "\u001b[2K     \u001b[90m━━━━━━━━━━━━━━━━━━━━━━━━━━━━━━━━━━━━━━━━\u001b[0m \u001b[32m8.4/8.4 MB\u001b[0m \u001b[31m57.0 MB/s\u001b[0m eta \u001b[36m0:00:00\u001b[0m\n",
            "\u001b[2K     \u001b[90m━━━━━━━━━━━━━━━━━━━━━━━━━━━━━━━━━━━━━━━━\u001b[0m \u001b[32m190.6/190.6 kB\u001b[0m \u001b[31m21.5 MB/s\u001b[0m eta \u001b[36m0:00:00\u001b[0m\n",
            "\u001b[2K     \u001b[90m━━━━━━━━━━━━━━━━━━━━━━━━━━━━━━━━━━━━━━━━\u001b[0m \u001b[32m4.8/4.8 MB\u001b[0m \u001b[31m103.3 MB/s\u001b[0m eta \u001b[36m0:00:00\u001b[0m\n",
            "\u001b[2K     \u001b[90m━━━━━━━━━━━━━━━━━━━━━━━━━━━━━━━━━━━━━━━━\u001b[0m \u001b[32m82.1/82.1 kB\u001b[0m \u001b[31m10.9 MB/s\u001b[0m eta \u001b[36m0:00:00\u001b[0m\n",
            "\u001b[2K     \u001b[90m━━━━━━━━━━━━━━━━━━━━━━━━━━━━━━━━━━━━━━━━\u001b[0m \u001b[32m62.7/62.7 kB\u001b[0m \u001b[31m8.1 MB/s\u001b[0m eta \u001b[36m0:00:00\u001b[0m\n",
            "\u001b[?25h"
          ]
        }
      ]
    },
    {
      "cell_type": "code",
      "source": [
        "import pickle"
      ],
      "metadata": {
        "id": "6dvvLQvf5LSP"
      },
      "execution_count": null,
      "outputs": []
    },
    {
      "cell_type": "code",
      "source": [
        "# %%writefile app.py\n",
        "# import streamlit as st\n",
        "# import pickle\n",
        "# import tensorflow as tf\n",
        "# import numpy as np\n",
        "# from PIL import Image\n",
        "\n",
        "# def generate_faces(generator, num_images, randomness_level):\n",
        "#     generated_images = []\n",
        "\n",
        "#     for _ in range(num_images):\n",
        "#         # Generate random noise\n",
        "#         random_noise = np.random.normal(size=(1, 100))\n",
        "\n",
        "#         # Adjust randomness based on user input\n",
        "#         random_noise *= randomness_level\n",
        "\n",
        "#         # Generate face using the loaded generator\n",
        "#         generated_image = generator.predict(random_noise)[0]\n",
        "\n",
        "#         # Denormalize the image\n",
        "#         generated_image = (generated_image + 1) * 127.5\n",
        "\n",
        "#         # Resize to 64x64\n",
        "#         generated_image = tf.image.resize(generated_image, (16, 16)).numpy()\n",
        "\n",
        "#         # Convert to PIL Image for display\n",
        "#         pil_image = Image.fromarray(generated_image.astype('uint8'))\n",
        "\n",
        "#         # Append the generated image to the list\n",
        "#         generated_images.append(pil_image)\n",
        "\n",
        "#     return generated_images\n",
        "\n",
        "# def main():\n",
        "#     st.title(\"Anime Face Generator\")\n",
        "\n",
        "#     # Load the generator model\n",
        "#     with open('generator_model.pkl', 'rb') as f:\n",
        "#         loaded_generator = pickle.load(f)\n",
        "\n",
        "#     # Number of Images\n",
        "#     num_images = st.slider(\"Number of Images\", 1, 20, 5)\n",
        "\n",
        "#     # Randomness Level\n",
        "#     randomness_level = st.slider(\"Randomness Level\", 0.0, 1.0, 0.5, step=0.1)\n",
        "\n",
        "#     # Generate Faces Button\n",
        "#     if st.button(\"Generate Faces\"):\n",
        "#         generated_images = generate_faces(loaded_generator, num_images, randomness_level)\n",
        "\n",
        "#         # Calculate the number of rows and columns\n",
        "#         num_columns = min(num_images, 5)\n",
        "#         num_rows = (num_images + num_columns - 1) // num_columns\n",
        "\n",
        "#         # Display the generated images in rows and columns\n",
        "#         for row in range(num_rows):\n",
        "#             row_images = generated_images[row * num_columns: (row + 1) * num_columns]\n",
        "#             columns = st.columns(num_columns)\n",
        "\n",
        "#             for img, col in zip(row_images, columns):\n",
        "#                 col.image(img, caption=f\"Generated Anime Face\", width=16, use_column_width=True)\n",
        "\n",
        "# if __name__ == '__main__':\n",
        "#     main()\n"
      ],
      "metadata": {
        "id": "iAuJfJ8DWZgt"
      },
      "execution_count": null,
      "outputs": []
    },
    {
      "cell_type": "code",
      "source": [
        "%%writefile app.py\n",
        "# %%writefile app.py\n",
        "import streamlit as st\n",
        "import pickle\n",
        "import tensorflow as tf\n",
        "import numpy as np\n",
        "from PIL import Image\n",
        "from io import BytesIO\n",
        "\n",
        "def generate_faces(generator, num_images, randomness_level):\n",
        "    generated_images = []\n",
        "\n",
        "    for _ in range(num_images):\n",
        "        # Generate random noise\n",
        "        random_noise = np.random.normal(size=(1, 100))\n",
        "\n",
        "        # Adjust randomness based on user input\n",
        "        random_noise *= randomness_level\n",
        "\n",
        "        # Generate face using the loaded generator\n",
        "        generated_image = generator.predict(random_noise)[0]\n",
        "\n",
        "        # Denormalize the image\n",
        "        generated_image = (generated_image + 1) * 127.5\n",
        "\n",
        "        # Resize to 20x20\n",
        "        generated_image = tf.image.resize(generated_image, (20, 20)).numpy()\n",
        "\n",
        "        # Convert to PIL Image for display\n",
        "        pil_image = Image.fromarray(generated_image.astype('uint8'))\n",
        "\n",
        "        # Append the generated image to the list\n",
        "        generated_images.append(pil_image)\n",
        "\n",
        "    return generated_images\n",
        "\n",
        "def main():\n",
        "    st.title(\"Anime Face Generator\")\n",
        "\n",
        "    # Load the generator model\n",
        "    with open('generator_model.pkl', 'rb') as f:\n",
        "        loaded_generator = pickle.load(f)\n",
        "\n",
        "    # Number of Images\n",
        "    num_images = st.slider(\"Number of Images\", 1, 5, 2)\n",
        "\n",
        "    # Randomness Level\n",
        "    randomness_level = st.slider(\"Randomness Level\", 0.0, 1.0, 0.5, step=0.1)\n",
        "\n",
        "    # Show noise as the starting point\n",
        "    starting_point_noise_images = []\n",
        "    for _ in range(num_images):\n",
        "        starting_point_noise = np.random.normal(size=(1, 100))\n",
        "        starting_point_noise_image = np.clip((starting_point_noise + 1) * 127.5, 0, 255).astype('uint8')\n",
        "        starting_point_pil_image = Image.fromarray(starting_point_noise_image[0], mode='L')  # Convert to grayscale\n",
        "        resized_noise_image = starting_point_pil_image.resize((20, 20))\n",
        "        starting_point_noise_images.append(resized_noise_image)\n",
        "\n",
        "    # Display the noise images\n",
        "    st.write(\"This is where we started\")\n",
        "    columns = st.columns(num_images)\n",
        "    for i, (img, col) in enumerate(zip(starting_point_noise_images, columns)):\n",
        "        # Display image\n",
        "        col.image(img, caption=f\"Noise Image {i + 1}\", width=20, use_column_width=True)\n",
        "\n",
        "\n",
        "\n",
        "    # Generate Faces Button\n",
        "    if st.button(\"Generate Faces\"):\n",
        "        generated_images = generate_faces(loaded_generator, num_images, randomness_level)\n",
        "\n",
        "        # Title for generated images\n",
        "        st.write(\"This is where our model takes us\")\n",
        "\n",
        "        # Calculate the number of rows and columns\n",
        "        num_columns = min(num_images, 5)\n",
        "        num_rows = (num_images + num_columns - 1) // num_columns\n",
        "\n",
        "        # Display the generated images in rows and columns\n",
        "        for row in range(num_rows):\n",
        "            row_images = generated_images[row * num_columns: (row + 1) * num_columns]\n",
        "            columns = st.columns(num_columns)\n",
        "\n",
        "            for i, (img, col) in enumerate(zip(row_images, columns)):\n",
        "                # Display image\n",
        "                col.image(img, caption=f\"Generated Anime Face {i + 1}\", width=20, use_column_width=True)\n",
        "\n",
        "                # Download button\n",
        "                img_bytes = BytesIO()\n",
        "                img.save(img_bytes, format='PNG')\n",
        "                col.download_button(label=f\"Download Image {i + 1}\", data=img_bytes, file_name=f\"generated_image_{i + 1}.png\", mime='image/png')\n",
        "\n",
        "if __name__ == '__main__':\n",
        "    main()\n",
        "\n"
      ],
      "metadata": {
        "colab": {
          "base_uri": "https://localhost:8080/"
        },
        "id": "FQxYD9xnagYQ",
        "outputId": "2305aa08-4f5d-4691-ca5b-e270d0bd4a4d"
      },
      "execution_count": null,
      "outputs": [
        {
          "output_type": "stream",
          "name": "stdout",
          "text": [
            "Overwriting app.py\n"
          ]
        }
      ]
    },
    {
      "cell_type": "code",
      "source": [
        "! wget -q -O - ipv4.icanhazip.com"
      ],
      "metadata": {
        "colab": {
          "base_uri": "https://localhost:8080/"
        },
        "id": "8WWegZGBXVIK",
        "outputId": "6c32b85c-a893-4611-ee4b-1d2bd3ece423"
      },
      "execution_count": null,
      "outputs": [
        {
          "output_type": "stream",
          "name": "stdout",
          "text": [
            "35.192.34.227\n"
          ]
        }
      ]
    },
    {
      "cell_type": "code",
      "source": [
        "! streamlit run app.py & npx localtunnel --port 8501"
      ],
      "metadata": {
        "colab": {
          "base_uri": "https://localhost:8080/"
        },
        "id": "fw_3zrSEXSxy",
        "outputId": "66205020-21b6-421a-cc2d-4aaeaa5808f1"
      },
      "execution_count": null,
      "outputs": [
        {
          "output_type": "stream",
          "name": "stdout",
          "text": [
            "[..................] \\ fetchMetadata: sill resolveWithNewModule yargs@17.1.1 ch\u001b[0m\u001b[K\n",
            "Collecting usage statistics. To deactivate, set browser.gatherUsageStats to False.\n",
            "\u001b[0m\n",
            "\u001b[0m\n",
            "\u001b[34m\u001b[1m  You can now view your Streamlit app in your browser.\u001b[0m\n",
            "\u001b[0m\n",
            "\u001b[34m  Network URL: \u001b[0m\u001b[1mhttp://172.28.0.12:8501\u001b[0m\n",
            "\u001b[34m  External URL: \u001b[0m\u001b[1mhttp://35.192.34.227:8501\u001b[0m\n",
            "\u001b[0m\n",
            "\u001b[K\u001b[?25hnpx: installed 22 in 2.429s\n",
            "your url is: https://fluffy-socks-film.loca.lt\n",
            "2023-11-17 20:07:34.648096: E tensorflow/compiler/xla/stream_executor/cuda/cuda_dnn.cc:9342] Unable to register cuDNN factory: Attempting to register factory for plugin cuDNN when one has already been registered\n",
            "2023-11-17 20:07:34.648148: E tensorflow/compiler/xla/stream_executor/cuda/cuda_fft.cc:609] Unable to register cuFFT factory: Attempting to register factory for plugin cuFFT when one has already been registered\n",
            "2023-11-17 20:07:34.648181: E tensorflow/compiler/xla/stream_executor/cuda/cuda_blas.cc:1518] Unable to register cuBLAS factory: Attempting to register factory for plugin cuBLAS when one has already been registered\n",
            "2023-11-17 20:07:35.634064: W tensorflow/compiler/tf2tensorrt/utils/py_utils.cc:38] TF-TRT Warning: Could not find TensorRT\n",
            "2023-11-17 20:07:36.973 Uncaught app exception\n",
            "Traceback (most recent call last):\n",
            "  File \"/usr/local/lib/python3.10/dist-packages/streamlit/runtime/scriptrunner/script_runner.py\", line 534, in _run_script\n",
            "    exec(code, module.__dict__)\n",
            "  File \"/content/app.py\", line 93, in <module>\n",
            "    main()\n",
            "  File \"/content/app.py\", line 40, in main\n",
            "    with open('generator_model.pkl', 'rb') as f:\n",
            "FileNotFoundError: [Errno 2] No such file or directory: 'generator_model.pkl'\n",
            "\u001b[34m  Stopping...\u001b[0m\n",
            "^C\n"
          ]
        }
      ]
    }
  ],
  "metadata": {
    "accelerator": "GPU",
    "colab": {
      "provenance": [],
      "gpuType": "T4"
    },
    "kernelspec": {
      "display_name": "Python 3",
      "name": "python3"
    },
    "language_info": {
      "name": "python"
    },
    "widgets": {
      "application/vnd.jupyter.widget-state+json": {
        "8ad993913b60472481da791ae6fcc2c4": {
          "model_module": "@jupyter-widgets/controls",
          "model_name": "HBoxModel",
          "model_module_version": "1.5.0",
          "state": {
            "_dom_classes": [],
            "_model_module": "@jupyter-widgets/controls",
            "_model_module_version": "1.5.0",
            "_model_name": "HBoxModel",
            "_view_count": null,
            "_view_module": "@jupyter-widgets/controls",
            "_view_module_version": "1.5.0",
            "_view_name": "HBoxView",
            "box_style": "",
            "children": [
              "IPY_MODEL_151eeb15c1b64c38a2bb1eb246bfe7a0",
              "IPY_MODEL_3231e24386a845e9b432a171b3e3d437",
              "IPY_MODEL_1b22a213410949b3803a02baa30b8862"
            ],
            "layout": "IPY_MODEL_a561b532b5f54563917b4acad712aa21"
          }
        },
        "151eeb15c1b64c38a2bb1eb246bfe7a0": {
          "model_module": "@jupyter-widgets/controls",
          "model_name": "HTMLModel",
          "model_module_version": "1.5.0",
          "state": {
            "_dom_classes": [],
            "_model_module": "@jupyter-widgets/controls",
            "_model_module_version": "1.5.0",
            "_model_name": "HTMLModel",
            "_view_count": null,
            "_view_module": "@jupyter-widgets/controls",
            "_view_module_version": "1.5.0",
            "_view_name": "HTMLView",
            "description": "",
            "description_tooltip": null,
            "layout": "IPY_MODEL_aaf6a722788941d594af04957f1352cc",
            "placeholder": "​",
            "style": "IPY_MODEL_f8896bce16a44402942da5fd8963db05",
            "value": "100%"
          }
        },
        "3231e24386a845e9b432a171b3e3d437": {
          "model_module": "@jupyter-widgets/controls",
          "model_name": "FloatProgressModel",
          "model_module_version": "1.5.0",
          "state": {
            "_dom_classes": [],
            "_model_module": "@jupyter-widgets/controls",
            "_model_module_version": "1.5.0",
            "_model_name": "FloatProgressModel",
            "_view_count": null,
            "_view_module": "@jupyter-widgets/controls",
            "_view_module_version": "1.5.0",
            "_view_name": "ProgressView",
            "bar_style": "success",
            "description": "",
            "description_tooltip": null,
            "layout": "IPY_MODEL_9bcca1d91c46494f8e34deb4339ce7a1",
            "max": 21551,
            "min": 0,
            "orientation": "horizontal",
            "style": "IPY_MODEL_ecf49e8737c748b58b5337b46ef9d4a6",
            "value": 21551
          }
        },
        "1b22a213410949b3803a02baa30b8862": {
          "model_module": "@jupyter-widgets/controls",
          "model_name": "HTMLModel",
          "model_module_version": "1.5.0",
          "state": {
            "_dom_classes": [],
            "_model_module": "@jupyter-widgets/controls",
            "_model_module_version": "1.5.0",
            "_model_name": "HTMLModel",
            "_view_count": null,
            "_view_module": "@jupyter-widgets/controls",
            "_view_module_version": "1.5.0",
            "_view_name": "HTMLView",
            "description": "",
            "description_tooltip": null,
            "layout": "IPY_MODEL_28cafc1f2d144f6aab7380d5d31d2866",
            "placeholder": "​",
            "style": "IPY_MODEL_5d1ac5d187894c8d8ec6e40bd1862499",
            "value": " 21551/21551 [00:09&lt;00:00, 2423.09it/s]"
          }
        },
        "a561b532b5f54563917b4acad712aa21": {
          "model_module": "@jupyter-widgets/base",
          "model_name": "LayoutModel",
          "model_module_version": "1.2.0",
          "state": {
            "_model_module": "@jupyter-widgets/base",
            "_model_module_version": "1.2.0",
            "_model_name": "LayoutModel",
            "_view_count": null,
            "_view_module": "@jupyter-widgets/base",
            "_view_module_version": "1.2.0",
            "_view_name": "LayoutView",
            "align_content": null,
            "align_items": null,
            "align_self": null,
            "border": null,
            "bottom": null,
            "display": null,
            "flex": null,
            "flex_flow": null,
            "grid_area": null,
            "grid_auto_columns": null,
            "grid_auto_flow": null,
            "grid_auto_rows": null,
            "grid_column": null,
            "grid_gap": null,
            "grid_row": null,
            "grid_template_areas": null,
            "grid_template_columns": null,
            "grid_template_rows": null,
            "height": null,
            "justify_content": null,
            "justify_items": null,
            "left": null,
            "margin": null,
            "max_height": null,
            "max_width": null,
            "min_height": null,
            "min_width": null,
            "object_fit": null,
            "object_position": null,
            "order": null,
            "overflow": null,
            "overflow_x": null,
            "overflow_y": null,
            "padding": null,
            "right": null,
            "top": null,
            "visibility": null,
            "width": null
          }
        },
        "aaf6a722788941d594af04957f1352cc": {
          "model_module": "@jupyter-widgets/base",
          "model_name": "LayoutModel",
          "model_module_version": "1.2.0",
          "state": {
            "_model_module": "@jupyter-widgets/base",
            "_model_module_version": "1.2.0",
            "_model_name": "LayoutModel",
            "_view_count": null,
            "_view_module": "@jupyter-widgets/base",
            "_view_module_version": "1.2.0",
            "_view_name": "LayoutView",
            "align_content": null,
            "align_items": null,
            "align_self": null,
            "border": null,
            "bottom": null,
            "display": null,
            "flex": null,
            "flex_flow": null,
            "grid_area": null,
            "grid_auto_columns": null,
            "grid_auto_flow": null,
            "grid_auto_rows": null,
            "grid_column": null,
            "grid_gap": null,
            "grid_row": null,
            "grid_template_areas": null,
            "grid_template_columns": null,
            "grid_template_rows": null,
            "height": null,
            "justify_content": null,
            "justify_items": null,
            "left": null,
            "margin": null,
            "max_height": null,
            "max_width": null,
            "min_height": null,
            "min_width": null,
            "object_fit": null,
            "object_position": null,
            "order": null,
            "overflow": null,
            "overflow_x": null,
            "overflow_y": null,
            "padding": null,
            "right": null,
            "top": null,
            "visibility": null,
            "width": null
          }
        },
        "f8896bce16a44402942da5fd8963db05": {
          "model_module": "@jupyter-widgets/controls",
          "model_name": "DescriptionStyleModel",
          "model_module_version": "1.5.0",
          "state": {
            "_model_module": "@jupyter-widgets/controls",
            "_model_module_version": "1.5.0",
            "_model_name": "DescriptionStyleModel",
            "_view_count": null,
            "_view_module": "@jupyter-widgets/base",
            "_view_module_version": "1.2.0",
            "_view_name": "StyleView",
            "description_width": ""
          }
        },
        "9bcca1d91c46494f8e34deb4339ce7a1": {
          "model_module": "@jupyter-widgets/base",
          "model_name": "LayoutModel",
          "model_module_version": "1.2.0",
          "state": {
            "_model_module": "@jupyter-widgets/base",
            "_model_module_version": "1.2.0",
            "_model_name": "LayoutModel",
            "_view_count": null,
            "_view_module": "@jupyter-widgets/base",
            "_view_module_version": "1.2.0",
            "_view_name": "LayoutView",
            "align_content": null,
            "align_items": null,
            "align_self": null,
            "border": null,
            "bottom": null,
            "display": null,
            "flex": null,
            "flex_flow": null,
            "grid_area": null,
            "grid_auto_columns": null,
            "grid_auto_flow": null,
            "grid_auto_rows": null,
            "grid_column": null,
            "grid_gap": null,
            "grid_row": null,
            "grid_template_areas": null,
            "grid_template_columns": null,
            "grid_template_rows": null,
            "height": null,
            "justify_content": null,
            "justify_items": null,
            "left": null,
            "margin": null,
            "max_height": null,
            "max_width": null,
            "min_height": null,
            "min_width": null,
            "object_fit": null,
            "object_position": null,
            "order": null,
            "overflow": null,
            "overflow_x": null,
            "overflow_y": null,
            "padding": null,
            "right": null,
            "top": null,
            "visibility": null,
            "width": null
          }
        },
        "ecf49e8737c748b58b5337b46ef9d4a6": {
          "model_module": "@jupyter-widgets/controls",
          "model_name": "ProgressStyleModel",
          "model_module_version": "1.5.0",
          "state": {
            "_model_module": "@jupyter-widgets/controls",
            "_model_module_version": "1.5.0",
            "_model_name": "ProgressStyleModel",
            "_view_count": null,
            "_view_module": "@jupyter-widgets/base",
            "_view_module_version": "1.2.0",
            "_view_name": "StyleView",
            "bar_color": null,
            "description_width": ""
          }
        },
        "28cafc1f2d144f6aab7380d5d31d2866": {
          "model_module": "@jupyter-widgets/base",
          "model_name": "LayoutModel",
          "model_module_version": "1.2.0",
          "state": {
            "_model_module": "@jupyter-widgets/base",
            "_model_module_version": "1.2.0",
            "_model_name": "LayoutModel",
            "_view_count": null,
            "_view_module": "@jupyter-widgets/base",
            "_view_module_version": "1.2.0",
            "_view_name": "LayoutView",
            "align_content": null,
            "align_items": null,
            "align_self": null,
            "border": null,
            "bottom": null,
            "display": null,
            "flex": null,
            "flex_flow": null,
            "grid_area": null,
            "grid_auto_columns": null,
            "grid_auto_flow": null,
            "grid_auto_rows": null,
            "grid_column": null,
            "grid_gap": null,
            "grid_row": null,
            "grid_template_areas": null,
            "grid_template_columns": null,
            "grid_template_rows": null,
            "height": null,
            "justify_content": null,
            "justify_items": null,
            "left": null,
            "margin": null,
            "max_height": null,
            "max_width": null,
            "min_height": null,
            "min_width": null,
            "object_fit": null,
            "object_position": null,
            "order": null,
            "overflow": null,
            "overflow_x": null,
            "overflow_y": null,
            "padding": null,
            "right": null,
            "top": null,
            "visibility": null,
            "width": null
          }
        },
        "5d1ac5d187894c8d8ec6e40bd1862499": {
          "model_module": "@jupyter-widgets/controls",
          "model_name": "DescriptionStyleModel",
          "model_module_version": "1.5.0",
          "state": {
            "_model_module": "@jupyter-widgets/controls",
            "_model_module_version": "1.5.0",
            "_model_name": "DescriptionStyleModel",
            "_view_count": null,
            "_view_module": "@jupyter-widgets/base",
            "_view_module_version": "1.2.0",
            "_view_name": "StyleView",
            "description_width": ""
          }
        }
      }
    }
  },
  "nbformat": 4,
  "nbformat_minor": 0
}